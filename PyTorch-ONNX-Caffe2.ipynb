{
 "cells": [
  {
   "cell_type": "markdown",
   "metadata": {},
   "source": [
    "# PyTorch-ONNX-Caffe2\n",
    "\n",
    "Transfer PyTorch model to ONNX format and import ONNX model with Caffe2."
   ]
  },
  {
   "cell_type": "markdown",
   "metadata": {},
   "source": [
    "## Define a PyTorch model and train model"
   ]
  },
  {
   "cell_type": "code",
   "execution_count": 1,
   "metadata": {},
   "outputs": [],
   "source": [
    "import torch\n",
    "import torchvision\n",
    "import torchvision.transforms as transforms\n",
    "from torch import nn, optim\n",
    "\n",
    "class Net(nn.Module):\n",
    "    def __init__(self):\n",
    "        super(Net, self).__init__()\n",
    "        self.features = nn.Sequential(\n",
    "            nn.Conv2d(1, 6, 5),\n",
    "            nn.MaxPool2d(2, 2),\n",
    "            nn.Conv2d(6, 16, 5),\n",
    "            nn.MaxPool2d(2, 2),\n",
    "        )\n",
    "        self.classifier = nn.Sequential(\n",
    "            nn.Linear(16 * 4 * 4, 120),\n",
    "            nn.ReLU(),\n",
    "            nn.Linear(120, 84),\n",
    "            nn.ReLU(),\n",
    "            nn.Linear(84, 10)\n",
    "        )\n",
    "        \n",
    "    def forward(self, x):\n",
    "        x = self.features(x)\n",
    "        x = x.view(-1, 16 * 4 * 4)\n",
    "        x = self.classifier(x)\n",
    "        return x\n",
    "    \n",
    "    def load_mnist_data(self, batch_size=10):\n",
    "        transform = transforms.Compose([\n",
    "             transforms.ToTensor(),\n",
    "             transforms.Normalize((0.5, 0.5, 0.5), (0.5, 0.5, 0.5))\n",
    "        ])\n",
    "\n",
    "        classes = ('0', '1', '2', '3', '4', \n",
    "                   '5', '6', '7', '8', '9')\n",
    "\n",
    "        trainset = torchvision.datasets.MNIST(root='data/MNIST', train=True,\n",
    "                                              download=True, transform=transform)\n",
    "        trainloader = torch.utils.data.DataLoader(trainset, batch_size=batch_size,\n",
    "                                                  shuffle=True, num_workers=2)\n",
    "\n",
    "        testset = torchvision.datasets.MNIST(root='data/MNIST', train=False,\n",
    "                                             download=True, transform=transform)\n",
    "        testloader = torch.utils.data.DataLoader(testset, batch_size=batch_size,\n",
    "                                                 shuffle=True, num_workers=2)\n",
    "        return trainloader, testloader, classes\n"
   ]
  },
  {
   "cell_type": "code",
   "execution_count": 2,
   "metadata": {},
   "outputs": [
    {
     "name": "stdout",
     "output_type": "stream",
     "text": [
      "[1,  1000] loss: 0.132\n"
     ]
    }
   ],
   "source": [
    "device = \"cuda:0\" if torch.cuda.is_available() else \"cpu\"\n",
    "net = Net().to(device)\n",
    "batch_size = 40\n",
    "trainloader, testloader, classes = net.load_mnist_data(batch_size=batch_size)\n",
    "\n",
    "criterion = nn.CrossEntropyLoss()\n",
    "optimizer = optim.Adam(net.parameters(), lr=0.001)\n",
    "\n",
    "EPOCHS = 1 # 2\n",
    "for epoch in range(EPOCHS):  # loop over the dataset multiple times\n",
    "    running_loss = 0.0\n",
    "    for i, data in enumerate(trainloader):\n",
    "        inputs, labels = data\n",
    "        inputs = inputs.to(device)\n",
    "        labels = labels.to(device)\n",
    "\n",
    "        optimizer.zero_grad()\n",
    "\n",
    "        # forward + backward + optimize\n",
    "        outputs = net(inputs)\n",
    "        loss = criterion(outputs, labels)\n",
    "        loss.backward()\n",
    "        optimizer.step()\n",
    "\n",
    "        # print statistics\n",
    "        running_loss += loss.item()\n",
    "        if i % 1000 == 999:    # print every 2000 mini-batches\n",
    "            print('[%d, %5d] loss: %.3f' %\n",
    "                  (epoch + 1, i + 1, running_loss / 2000))"
   ]
  },
  {
   "cell_type": "code",
   "execution_count": 3,
   "metadata": {},
   "outputs": [
    {
     "name": "stdout",
     "output_type": "stream",
     "text": [
      "<class 'int'>\n",
      "counts: 39, batch_size: 40, acc: 0.975\n"
     ]
    },
    {
     "data": {
      "image/png": "[encoded data removed]",
      "text/plain": [
       "<Figure size 432x288 with 1 Axes>"
      ]
     },
     "metadata": {
      "needs_background": "light"
     },
     "output_type": "display_data"
    }
   ],
   "source": [
    "import matplotlib.pyplot as plt\n",
    "%matplotlib inline \n",
    "import numpy as np\n",
    "\n",
    "def imshow(img):\n",
    "    img = img / 2 + 0.5\n",
    "    npimg = img.numpy()\n",
    "    plt.imshow(np.transpose(npimg, (1, 2, 0)))\n",
    "\n",
    "dataiter = iter(testloader)\n",
    "images, labels = dataiter.next()\n",
    "\n",
    "# show images\n",
    "imshow(torchvision.utils.make_grid(images))\n",
    "\n",
    "images = images.to(device)\n",
    "labels = labels.to(device)\n",
    "\n",
    "outputs = net(images)\n",
    "_, predict = torch.max(outputs, 1)\n",
    "\n",
    "# accuracy\n",
    "counts = torch.sum(torch.eq(labels, predict)).cpu().item()\n",
    "acc = counts / predict.shape[0]\n",
    "print(type(counts))\n",
    "print(\"counts: {}, batch_size: {}, acc: {}\".format(\n",
    "      counts, batch_size ,acc))"
   ]
  },
  {
   "cell_type": "markdown",
   "metadata": {},
   "source": [
    "## Export the PyTorch model to ONNX"
   ]
  },
  {
   "cell_type": "code",
   "execution_count": 4,
   "metadata": {},
   "outputs": [
    {
     "name": "stdout",
     "output_type": "stream",
     "text": [
      "graph(%0 : Float(1, 1, 28, 28)\n",
      "      %1 : Float(6, 1, 5, 5)\n",
      "      %2 : Float(6)\n",
      "      %3 : Float(16, 6, 5, 5)\n",
      "      %4 : Float(16)\n",
      "      %5 : Float(120, 256)\n",
      "      %6 : Float(120)\n",
      "      %7 : Float(84, 120)\n",
      "      %8 : Float(84)\n",
      "      %9 : Float(10, 84)\n",
      "      %10 : Float(10)) {\n",
      "  %11 : Float(1, 6, 24, 24) = onnx::Conv[dilations=[1, 1], group=1, kernel_shape=[5, 5], pads=[0, 0, 0, 0], strides=[1, 1]](%0, %1, %2), scope: Net/Sequential[features]/Conv2d[0]\n",
      "  %12 : Float(1, 6, 12, 12) = onnx::MaxPool[kernel_shape=[2, 2], pads=[0, 0, 0, 0], strides=[2, 2]](%11), scope: Net/Sequential[features]/MaxPool2d[1]\n",
      "  %13 : Float(1, 16, 8, 8) = onnx::Conv[dilations=[1, 1], group=1, kernel_shape=[5, 5], pads=[0, 0, 0, 0], strides=[1, 1]](%12, %3, %4), scope: Net/Sequential[features]/Conv2d[2]\n",
      "  %14 : Float(1, 16, 4, 4) = onnx::MaxPool[kernel_shape=[2, 2], pads=[0, 0, 0, 0], strides=[2, 2]](%13), scope: Net/Sequential[features]/MaxPool2d[3]\n",
      "  %15 : Dynamic = onnx::Constant[value=  -1  256 [ CPULongType{2} ]](), scope: Net\n",
      "  %16 : Float(1, 256) = onnx::Reshape(%14, %15), scope: Net\n",
      "  %17 : Dynamic = onnx::Constant[value={0}]()\n",
      "  %18 : Dynamic = onnx::Gemm[alpha=1, beta=0, transB=1](%16, %5, %17)\n",
      "  %19 : Float(1, 120) = onnx::Add(%6, %18)\n",
      "  %20 : Float(1, 120) = onnx::Relu(%19), scope: Net/Sequential[classifier]/ReLU[1]\n",
      "  %21 : Dynamic = onnx::Constant[value={0}]()\n",
      "  %22 : Dynamic = onnx::Gemm[alpha=1, beta=0, transB=1](%20, %7, %21)\n",
      "  %23 : Float(1, 84) = onnx::Add(%8, %22)\n",
      "  %24 : Float(1, 84) = onnx::Relu(%23), scope: Net/Sequential[classifier]/ReLU[3]\n",
      "  %25 : Dynamic = onnx::Constant[value={0}]()\n",
      "  %26 : Dynamic = onnx::Gemm[alpha=1, beta=0, transB=1](%24, %9, %25)\n",
      "  %27 : Float(1, 10) = onnx::Add(%10, %26)\n",
      "  return (%27);\n",
      "}\n",
      "\n"
     ]
    }
   ],
   "source": [
    "import os\n",
    "if not os.path.isdir(\"model\"):\n",
    "    os.mkdir(\"model\")\n",
    "\n",
    "# Export dummy input and trained model to ONNX\n",
    "dummy_input = torch.randn(1, 1, 28, 28)\n",
    "torch.onnx.export(net.to(\"cpu\"), \n",
    "                  dummy_input, \n",
    "                  \"model/pytorch_mnist.onnx\",\n",
    "                  verbose=True,\n",
    "                  export_params=True\n",
    "                 )"
   ]
  },
  {
   "cell_type": "markdown",
   "metadata": {},
   "source": [
    "## Import the ONNX model to Caffe2"
   ]
  },
  {
   "cell_type": "code",
   "execution_count": 5,
   "metadata": {},
   "outputs": [],
   "source": [
    "import onnx\n",
    "import caffe2.python.onnx.backend as onnx_caffe2_backend\n",
    "\n",
    "# Load the ONNX ModelProto object. model is a standard Python protobuf object\n",
    "model = onnx.load(\"model/pytorch_mnist.onnx\")\n",
    "\n",
    "# prepare the caffe2 backend for executing the model this converts the ONNX model into a\n",
    "# Caffe2 NetDef that can execute it. Other ONNX backends, like one for CNTK will be\n",
    "# availiable soon.\n",
    "c2_rep = onnx_caffe2_backend.prepare(model)"
   ]
  },
  {
   "cell_type": "code",
   "execution_count": 6,
   "metadata": {},
   "outputs": [
    {
     "name": "stdout",
     "output_type": "stream",
     "text": [
      "Exported model has been executed on Caffe2 backend, and the result looks good!\n"
     ]
    }
   ],
   "source": [
    "# run the model in Caffe2\n",
    "\n",
    "# Construct a map from input names to Tensor data.\n",
    "# The graph of the model itself contains inputs for all weight parameters, after the input image.\n",
    "# Since the weights are already embedded, we just need to pass the input image.\n",
    "# Set the first input.\n",
    "W = {model.graph.input[0].name: dummy_input.data.numpy()}\n",
    "\n",
    "# Run the Caffe2 net:\n",
    "c2_out = c2_rep.run(W)[0]\n",
    "torch_out = net(dummy_input).detach().cpu().numpy()\n",
    "\n",
    "# Verify the numerical correctness upto 3 decimal places\n",
    "np.testing.assert_almost_equal(torch_out, \n",
    "                               c2_out, \n",
    "                               decimal=3\n",
    "                              )\n",
    "\n",
    "print(\"Exported model has been executed on Caffe2 backend, and the result looks good!\")"
   ]
  },
  {
   "cell_type": "markdown",
   "metadata": {},
   "source": [
    "## Detail"
   ]
  },
  {
   "cell_type": "code",
   "execution_count": 8,
   "metadata": {},
   "outputs": [
    {
     "data": {
      "text/plain": [
       "array([[-2.1032004 , -2.4978342 ,  0.05807265, -0.8135687 , -1.6517836 ,\n",
       "        -1.021906  , -0.8800076 , -2.8547955 ,  5.3566017 , -1.2537576 ]],\n",
       "      dtype=float32)"
      ]
     },
     "execution_count": 8,
     "metadata": {},
     "output_type": "execute_result"
    }
   ],
   "source": [
    "torch_out"
   ]
  },
  {
   "cell_type": "code",
   "execution_count": 9,
   "metadata": {},
   "outputs": [
    {
     "data": {
      "text/plain": [
       "array([[-2.1032002 , -2.497835  ,  0.05807253, -0.8135687 , -1.6517838 ,\n",
       "        -1.0219058 , -0.8800076 , -2.8547955 ,  5.3566017 , -1.2537569 ]],\n",
       "      dtype=float32)"
      ]
     },
     "execution_count": 9,
     "metadata": {},
     "output_type": "execute_result"
    }
   ],
   "source": [
    "c2_out"
   ]
  },
  {
   "cell_type": "code",
   "execution_count": null,
   "metadata": {},
   "outputs": [],
   "source": []
  }
 ],
 "metadata": {
  "kernelspec": {
   "display_name": "Python 3",
   "language": "python",
   "name": "python3"
  },
  "language_info": {
   "codemirror_mode": {
    "name": "ipython",
    "version": 3
   },
   "file_extension": ".py",
   "mimetype": "text/x-python",
   "name": "python",
   "nbconvert_exporter": "python",
   "pygments_lexer": "ipython3",
   "version": "3.5.2"
  }
 },
 "nbformat": 4,
 "nbformat_minor": 2
}
